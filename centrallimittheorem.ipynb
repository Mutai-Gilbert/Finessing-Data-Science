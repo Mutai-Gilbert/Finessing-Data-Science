{
  "nbformat": 4,
  "nbformat_minor": 0,
  "metadata": {
    "colab": {
      "provenance": [],
      "authorship_tag": "ABX9TyNI2YJXNaSM3qrYlVYt9gLa",
      "include_colab_link": true
    },
    "kernelspec": {
      "name": "python3",
      "display_name": "Python 3"
    },
    "language_info": {
      "name": "python"
    }
  },
  "cells": [
    {
      "cell_type": "markdown",
      "metadata": {
        "id": "view-in-github",
        "colab_type": "text"
      },
      "source": [
        "<a href=\"https://colab.research.google.com/github/Mutai-Gilbert/Finessing-Data-Science/blob/dev/centrallimittheorem.ipynb\" target=\"_parent\"><img src=\"https://colab.research.google.com/assets/colab-badge.svg\" alt=\"Open In Colab\"/></a>"
      ]
    },
    {
      "cell_type": "code",
      "execution_count": 28,
      "metadata": {
        "id": "fsGveTvluKqy"
      },
      "outputs": [],
      "source": [
        "from collections import Counter\n",
        "from matplotlib import pyplot as plt\n",
        "import math, random"
      ]
    },
    {
      "cell_type": "code",
      "source": [
        "def normal_cdf(x: float, mu: float = 0, sigma: float = 1) -> float:\n",
        "  return (1 + math.erf((x - mu) / math.sqrt(2) / sigma)) / 2"
      ],
      "metadata": {
        "id": "f3fdUGa2wRns"
      },
      "execution_count": 29,
      "outputs": []
    },
    {
      "cell_type": "code",
      "source": [
        "def bernoulli_trial(p: float) -> int:\n",
        "  return 1 if random.random() < p else 0"
      ],
      "metadata": {
        "id": "YBh7Kc3CwtTa"
      },
      "execution_count": 30,
      "outputs": []
    },
    {
      "cell_type": "code",
      "source": [
        "def binomial(n: int, p: float) -> int:\n",
        "  return sum(bernoulli_trial(p) for _ in range(n))"
      ],
      "metadata": {
        "id": "qp37fAMSwnuN"
      },
      "execution_count": 31,
      "outputs": []
    },
    {
      "cell_type": "code",
      "source": [
        "\n",
        "def binomial_histogram(p: float, n: int, num_points: int) -> None:\n",
        "  data = [binomial(n, p) for _ in range(num_points)]\n",
        "  histogram = Counter(data)\n",
        "  plt.bar([x - 0.4 for x in histogram.keys()],\n",
        "          [v/num_points for v in histogram.values()],\n",
        "          0.8,\n",
        "          color='0.75')\n",
        "  mu = p * n\n",
        "  sigma= math.sqrt(n * p *(1-p))\n",
        "  xs = range(min(data), max(data) + 1)\n",
        "  ys = [normal_cdf(i + 0.5, mu, sigma) - normal_cdf(i - 0.5, mu, sigma)\n",
        "          for i in xs]\n",
        "  plt.plot(xs, ys)\n",
        "  plt.title(\"Binomial distribution vs. Normal distribution\")\n",
        "  plt.show()"
      ],
      "metadata": {
        "id": "3hJBNqlvuTEl"
      },
      "execution_count": 34,
      "outputs": []
    },
    {
      "cell_type": "code",
      "source": [],
      "metadata": {
        "id": "TityD1dG1xwq"
      },
      "execution_count": null,
      "outputs": []
    }
  ]
}