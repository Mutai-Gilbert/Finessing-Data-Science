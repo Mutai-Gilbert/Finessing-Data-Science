{
  "nbformat": 4,
  "nbformat_minor": 0,
  "metadata": {
    "colab": {
      "provenance": [],
      "authorship_tag": "ABX9TyMR7wnCiPNCWGrHSe2ijAJW",
      "include_colab_link": true
    },
    "kernelspec": {
      "name": "python3",
      "display_name": "Python 3"
    },
    "language_info": {
      "name": "python"
    }
  },
  "cells": [
    {
      "cell_type": "markdown",
      "metadata": {
        "id": "view-in-github",
        "colab_type": "text"
      },
      "source": [
        "<a href=\"https://colab.research.google.com/github/Mutai-Gilbert/Finessing-Data-Science/blob/dev/hypothesistesting.ipynb\" target=\"_parent\"><img src=\"https://colab.research.google.com/assets/colab-badge.svg\" alt=\"Open In Colab\"/></a>"
      ]
    },
    {
      "cell_type": "code",
      "execution_count": 1,
      "metadata": {
        "colab": {
          "base_uri": "https://localhost:8080/",
          "height": 122
        },
        "id": "2L8HPg-zmfdW",
        "outputId": "9e827034-bcd3-491b-b1e5-fb7686820d29"
      },
      "outputs": [
        {
          "output_type": "error",
          "ename": "SyntaxError",
          "evalue": "invalid syntax (<ipython-input-1-e91eb1b2b030>, line 1)",
          "traceback": [
            "\u001b[0;36m  File \u001b[0;32m\"<ipython-input-1-e91eb1b2b030>\"\u001b[0;36m, line \u001b[0;32m1\u001b[0m\n\u001b[0;31m    from typing import Tuple import math def normal_approximation_to_binomial(n: int, p: float) -> Tuple[float, float]: \"\"\"Returns mu and sigma corresponding to a Binomial(n, p)\"\"\" mu = p * n sigma = math.sqrt(p * (1 - p) * n) return mu, sigma\u001b[0m\n\u001b[0m                             ^\u001b[0m\n\u001b[0;31mSyntaxError\u001b[0m\u001b[0;31m:\u001b[0m invalid syntax\n"
          ]
        }
      ],
      "source": [
        "from typing import Tuple import math def normal_approximation_to_binomial(n: int, p: float) -> Tuple[float, float]: \"\"\"Returns mu and sigma corresponding to a Binomial(n, p)\"\"\" mu = p * n sigma = math.sqrt(p * (1 - p) * n) return mu, sigma"
      ]
    }
  ]
}