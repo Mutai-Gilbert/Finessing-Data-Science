{
  "nbformat": 4,
  "nbformat_minor": 0,
  "metadata": {
    "colab": {
      "provenance": [],
      "authorship_tag": "ABX9TyNKNFMh6puaZoR/45eCtFr9",
      "include_colab_link": true
    },
    "kernelspec": {
      "name": "python3",
      "display_name": "Python 3"
    },
    "language_info": {
      "name": "python"
    }
  },
  "cells": [
    {
      "cell_type": "markdown",
      "metadata": {
        "id": "view-in-github",
        "colab_type": "text"
      },
      "source": [
        "<a href=\"https://colab.research.google.com/github/Mutai-Gilbert/Finessing-Data-Science/blob/dev/hypothesistesting.ipynb\" target=\"_parent\"><img src=\"https://colab.research.google.com/assets/colab-badge.svg\" alt=\"Open In Colab\"/></a>"
      ]
    },
    {
      "cell_type": "code",
      "execution_count": 1,
      "metadata": {
        "id": "2L8HPg-zmfdW"
      },
      "outputs": [],
      "source": [
        "from typing import Tuple\n",
        "import math\n",
        "\n"
      ]
    },
    {
      "cell_type": "code",
      "source": [],
      "metadata": {
        "id": "BMGs75ZqtsvO"
      },
      "execution_count": 1,
      "outputs": []
    },
    {
      "cell_type": "code",
      "source": [
        "def normal_approximation_to_binomial(n: int, p: float) -> Tuple[float, float]:\n",
        "    \"\"\"Returns mu and sigma corresponding to a Binomial(n, p)\"\"\"\n",
        "    mu = p * n\n",
        "    sigma = math.sqrt(p * (1 - p) * n)\n",
        "    return mu, sigma\n"
      ],
      "metadata": {
        "id": "PMAW6PbYtfDo"
      },
      "execution_count": 2,
      "outputs": []
    },
    {
      "cell_type": "code",
      "source": [
        "from typing import Callable\n",
        "\n",
        "def normal_cdf(x: float, mu: float = 0, sigma: float = 1) -> float:\n",
        "    # Cumulative distribution function for the standard normal distribution\n",
        "    return (1 + math.erf((x - mu) / math.sqrt(2) / sigma)) / 2\n",
        "\n",
        "normal_probability_below: Callable[[float, float, float], float] = normal_cdf\n",
        "\n",
        "def normal_probability_above(lo: float, mu: float = 0, sigma: float = 1) -> float:\n",
        "    \"\"\"The probability that an N(mu, sigma) is greater than lo.\"\"\"\n",
        "    return 1 - normal_cdf(lo, mu, sigma)\n",
        "\n",
        "def normal_probability_between(lo: float, hi: float, mu: float = 0, sigma: float = 1) -> float:\n",
        "    \"\"\"The probability that an N(mu, sigma) is between lo and hi.\"\"\"\n",
        "    return normal_cdf(hi, mu, sigma) - normal_cdf(lo, mu, sigma)\n",
        "\n",
        "def normal_probability_outside(lo: float, hi: float, mu: float = 0, sigma: float = 1) -> float:\n",
        "    \"\"\"The probability that an N(mu, sigma) is not between lo and hi.\"\"\"\n",
        "    return 1 - normal_probability_between(lo, hi, mu, sigma)\n"
      ],
      "metadata": {
        "id": "Lj8CJId6tdz5"
      },
      "execution_count": 3,
      "outputs": []
    }
  ]
}