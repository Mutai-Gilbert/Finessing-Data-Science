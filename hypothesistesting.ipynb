{
  "nbformat": 4,
  "nbformat_minor": 0,
  "metadata": {
    "colab": {
      "provenance": [],
      "authorship_tag": "ABX9TyMuS6GPYdgubBTVPv+J7jj3",
      "include_colab_link": true
    },
    "kernelspec": {
      "name": "python3",
      "display_name": "Python 3"
    },
    "language_info": {
      "name": "python"
    }
  },
  "cells": [
    {
      "cell_type": "markdown",
      "metadata": {
        "id": "view-in-github",
        "colab_type": "text"
      },
      "source": [
        "<a href=\"https://colab.research.google.com/github/Mutai-Gilbert/Finessing-Data-Science/blob/dev/hypothesistesting.ipynb\" target=\"_parent\"><img src=\"https://colab.research.google.com/assets/colab-badge.svg\" alt=\"Open In Colab\"/></a>"
      ]
    },
    {
      "cell_type": "code",
      "execution_count": null,
      "metadata": {
        "id": "2L8HPg-zmfdW"
      },
      "outputs": [],
      "source": [
        "from typing import Tuple\n",
        "import math\n"
      ]
    },
    {
      "cell_type": "code",
      "source": [
        "def normal_approximation_to_binomial(n: int, p: float) -> Tuple[float, float]:\n",
        "    \"\"\"Returns mu and sigma corresponding to a Binomial(n, p)\"\"\"\n",
        "    mu = p * n\n",
        "    sigma = math.sqrt(p * (1 - p) * n)\n",
        "    return mu, sigma\n"
      ],
      "metadata": {
        "id": "PMAW6PbYtfDo"
      },
      "execution_count": null,
      "outputs": []
    },
    {
      "cell_type": "code",
      "source": [
        "from typing import Callable\n",
        "\n",
        "def normal_cdf(x: float, mu: float = 0, sigma: float = 1) -> float:\n",
        "    # Cumulative distribution function for the standard normal distribution\n",
        "    return (1 + math.erf((x - mu) / math.sqrt(2) / sigma)) / 2\n",
        "\n",
        "normal_probability_below: Callable[[float, float, float], float] = normal_cdf\n",
        "\n",
        "def normal_probability_above(lo: float, mu: float = 0, sigma: float = 1) -> float:\n",
        "    \"\"\"The probability that an N(mu, sigma) is greater than lo.\"\"\"\n",
        "    return 1 - normal_cdf(lo, mu, sigma)\n",
        "\n",
        "def normal_probability_between(lo: float, hi: float, mu: float = 0, sigma: float = 1) -> float:\n",
        "    \"\"\"The probability that an N(mu, sigma) is between lo and hi.\"\"\"\n",
        "    return normal_cdf(hi, mu, sigma) - normal_cdf(lo, mu, sigma)\n",
        "\n",
        "def normal_probability_outside(lo: float, hi: float, mu: float = 0, sigma: float = 1) -> float:\n",
        "    \"\"\"The probability that an N(mu, sigma) is not between lo and hi.\"\"\"\n",
        "    return 1 - normal_probability_between(lo, hi, mu, sigma)\n"
      ],
      "metadata": {
        "id": "Lj8CJId6tdz5"
      },
      "execution_count": null,
      "outputs": []
    },
    {
      "cell_type": "code",
      "source": [
        "\n",
        "def normal_upper_bound(probability: float, mu: float = 0, sigma: float = 1) -> float:\n",
        "    \"\"\"Returns the z for which P(Z <= z) = probability\"\"\"\n",
        "    return inverse_normal_cdf(probability, mu, sigma)\n",
        "\n",
        "def normal_lower_bound(probability: float, mu: float = 0, sigma: float = 1) -> float:\n",
        "    \"\"\"Returns the z for which P(Z >= z) = probability\"\"\"\n",
        "    return inverse_normal_cdf(1 - probability, mu, sigma)\n",
        "\n",
        "def normal_two_sided_bounds(probability: float, mu: float = 0, sigma: float = 1) -> Tuple[float, float]:\n",
        "    \"\"\"Returns the symmetric (about the mean) bounds that contain the specified probability\"\"\"\n",
        "    tail_probability = (1 - probability) / 2\n",
        "    # Upper bound should have tail_probability above it\n",
        "    upper_bound = normal_lower_bound(tail_probability, mu, sigma)\n",
        "    # Lower bound should have tail_probability below it\n",
        "    lower_bound = normal_upper_bound(tail_probability, mu, sigma)\n",
        "    return lower_bound, upper_bound\n"
      ],
      "metadata": {
        "id": "MiIGA22tflpg"
      },
      "execution_count": null,
      "outputs": []
    },
    {
      "cell_type": "code",
      "source": [
        "def normal_upper_bound(probability: float, mu: float = 0, sigma: float = 1) -> float:\n",
        "    \"\"\"Returns the z for which P(Z <= z) = probability\"\"\"\n",
        "    return inverse_normal_cdf(probability, mu, sigma)\n",
        "\n",
        "def normal_lower_bound(probability: float, mu: float = 0, sigma: float = 1) -> float:\n",
        "    \"\"\"Returns the z for which P(Z >= z) = probability\"\"\"\n",
        "    return inverse_normal_cdf(1 - probability, mu, sigma)\n",
        "\n",
        "def normal_two_sided_bounds(probability: float, mu: float = 0, sigma: float = 1) -> Tuple[float, float]:\n",
        "    \"\"\" Returns the symmetric (about the mean) bounds that contain the specified probability \"\"\"\n",
        "    tail_probability = (1 - probability) / 2\n",
        "    # upper bound should have tail_probability above it\n",
        "    upper_bound = normal_lower_bound(tail_probability, mu, sigma)\n",
        "    # lower bound should have tail_probability below it\n",
        "    lower_bound = normal_upper_bound(tail_probability, mu, sigma)\n",
        "    return lower_bound, upper_bound\n"
      ],
      "metadata": {
        "id": "TxohAkUnqga-"
      },
      "execution_count": null,
      "outputs": []
    },
    {
      "cell_type": "code",
      "source": [
        "def two_sided_p_value(x: float, mu: float = 0, sigma: float = 1) -> float:\n",
        "    \"\"\"How likely are we to see a value at least as extreme as x (in either direction) if our values are from an N(mu, sigma)?\"\"\"\n",
        "    if x >= mu:\n",
        "        # x is greater than the mean, so the tail is everything greater than x\n",
        "        return 2 * normal_probability_above(x, mu, sigma)\n",
        "    else:\n",
        "        # x is less than the mean, so the tail is everything less than x\n",
        "        return 2 * normal_probability_below(x, mu, sigma)\n",
        "    two_sided_p_value(529.5, mu, sigma)\n",
        "    two_sided_p_value(531.5, mu_0, sigma_0)"
      ],
      "metadata": {
        "id": "btQRJQLEGlZa"
      },
      "execution_count": null,
      "outputs": []
    },
    {
      "cell_type": "code",
      "source": [
        "import random\n",
        "\n",
        "extreme_value_count = 0\n",
        "for _ in range(1000):\n",
        "    num_heads = sum(1 if random.random() < 0.5 else 0 for _ in range(1000))  # Count # of heads in 1000 flips\n",
        "    if num_heads >= 530 or num_heads <= 470:  # and count how often the # is 'extreme'\n",
        "        extreme_value_count += 1"
      ],
      "metadata": {
        "id": "MUIKP4yIOtST"
      },
      "execution_count": null,
      "outputs": []
    },
    {
      "cell_type": "code",
      "source": [
        "from typing import List\n",
        "import random\n",
        "\n",
        "def run_experiment() -> List[bool]:\n",
        "    \"\"\"Flips a fair coin 1000 times, True = heads, False = tails\"\"\"\n",
        "    return [random.random() < 0.5 for _ in range(1000)]\n",
        "\n",
        "def reject_fairness(experiment: List[bool]) -> bool:\n",
        "    \"\"\"Using the 5% significance levels\"\"\"\n",
        "    num_heads = len([flip for flip in experiment if flip])\n",
        "    return num_heads < 469 or num_heads > 531\n",
        "\n",
        "random.seed(0)\n",
        "experiments = [run_experiment() for _ in range(1000)]\n",
        "num_rejections = len([experiment for experiment in experiments if reject_fairness(experiment)])\n",
        "assert num_rejections == 46\n"
      ],
      "metadata": {
        "id": "G_XeVrABY3_v"
      },
      "execution_count": null,
      "outputs": []
    },
    {
      "cell_type": "code",
      "source": [
        "def estimated_parameters(N: int, n: int) -> Tuple[float, float]:\n",
        "    p = n / N\n",
        "    sigma = math.sqrt(p * (1 - p) / N)\n",
        "    return p, sigma\n"
      ],
      "metadata": {
        "id": "EwAWYTtoitM4"
      },
      "execution_count": null,
      "outputs": []
    },
    {
      "cell_type": "code",
      "source": [
        "def a_b_test_statistic(N_A: int, n_A: int, N_B: int, n_B: int) -> float:\n",
        "    p_A, sigma_A = estimated_parameters(N_A, n_A)\n",
        "    p_B, sigma_B = estimated_parameters(N_B, n_B)\n",
        "    return (p_B - p_A) / math.sqrt(sigma_A ** 2 + sigma_B ** 2)\n",
        "a_b_test_statistic(1000, 200, 1000, 180)"
      ],
      "metadata": {
        "colab": {
          "base_uri": "https://localhost:8080/"
        },
        "id": "r6TeeTKXx2cf",
        "outputId": "10348334-854a-482a-8ddf-bb453a3d3ae3"
      },
      "execution_count": null,
      "outputs": [
        {
          "output_type": "execute_result",
          "data": {
            "text/plain": [
              "-1.1403464899034472"
            ]
          },
          "metadata": {},
          "execution_count": 10
        }
      ]
    },
    {
      "cell_type": "code",
      "source": [
        "import math\n",
        "\n",
        "def B(alpha: float, beta: float) -> float:\n",
        "    \"\"\"A normalizing constant so that the total probability is 1\"\"\"\n",
        "    return math.gamma(alpha) * math.gamma(beta) / math.gamma(alpha + beta)\n",
        "\n",
        "def beta_pdf(x: float, alpha: float, beta: float) -> float:\n",
        "    if x <= 0 or x >= 1: # no weight outside of [0, 1]\n",
        "        return 0\n",
        "    return x ** (alpha - 1) * (1 - x) ** (beta - 1) / B(alpha, beta)\n",
        "    alpha / (alpha + beta)"
      ],
      "metadata": {
        "id": "9PmKYDqvQuhG"
      },
      "execution_count": null,
      "outputs": []
    },
    {
      "cell_type": "code",
      "source": [
        "def B(alpha: float, beta: float) -> float:\n",
        "    \"\"\"A normalizing constant so that the total probability is 1\"\"\"\n",
        "    return math.gamma(alpha) * math.gamma(beta) / math.gamma(alpha + beta)\n",
        "\n",
        "def beta_pdf(x: float, alpha: float, beta: float) -> float:\n",
        "    if x <= 0 or x >= 1:  # no weight outside of [0, 1]\n",
        "        return 0\n",
        "    return x ** (alpha - 1) * (1 - x) ** (beta - 1) / B(alpha, beta)\n",
        "    alpha / (alpha + beta)"
      ],
      "metadata": {
        "id": "eGVvxKxR6DxQ"
      },
      "execution_count": null,
      "outputs": []
    },
    {
      "cell_type": "code",
      "source": [
        "from typing import Callable\n",
        "\n",
        "def difference_quotient(f: Callable[[float], float], x: float, h: float) -> float:\n",
        "    return (f(x + h) - f(x)) / h\n"
      ],
      "metadata": {
        "id": "4Utkx_37Wcn8"
      },
      "execution_count": null,
      "outputs": []
    },
    {
      "cell_type": "code",
      "source": [
        "def square(x: float) -> float:\n",
        "    return x * x\n",
        "\n",
        "def derivative(x: float) -> float:\n",
        "    return 2 * x"
      ],
      "metadata": {
        "id": "lWyMT837nlnm"
      },
      "execution_count": null,
      "outputs": []
    },
    {
      "cell_type": "code",
      "source": [
        "import matplotlib.pyplot as plt\n",
        "\n",
        "xs = range(-10, 11)\n",
        "actuals = [derivative(x) for x in xs]\n",
        "estimates = [difference_quotient(square, x, h = 0.001) for x in xs]\n",
        "\n",
        "plt.title(\"Actual Derivatives vs Estimates\")\n",
        "plt.plot(xs, actuals, 'rx', label='Actual')\n",
        "\n",
        "plt.plot(xs, estimates, 'b+', label='Estimates')\n",
        "plt.legend(loc=9)\n",
        "plt.show()\n"
      ],
      "metadata": {
        "colab": {
          "base_uri": "https://localhost:8080/",
          "height": 452
        },
        "id": "T-dHlwxB9l27",
        "outputId": "9d230694-11ec-4b78-db8e-6f626df364c5"
      },
      "execution_count": null,
      "outputs": [
        {
          "output_type": "display_data",
          "data": {
            "text/plain": [
              "<Figure size 640x480 with 1 Axes>"
            ],
            "image/png": "[encoded data removed]"
          },
          "metadata": {}
        }
      ]
    },
    {
      "cell_type": "code",
      "source": [
        "from typing import TypeVar, List, Iterator\n",
        "\n",
        "T = TypeVar('T')\n",
        "def minibatches(dataset: List[T], batch_size: int, shuffle: bool = True) -> Iterator[List[T]]:\n",
        "  batch_starts = [start for start in range(0, len(dataset), batch_size)]\n",
        "  if shuffle: random.shuffle(batch_starts)\n",
        "  for start in batch_starts:\n",
        "    end = start + batch_size\n",
        "    yield dataset[start:end]"
      ],
      "metadata": {
        "id": "t4gBHsom_HaA"
      },
      "execution_count": 7,
      "outputs": []
    },
    {
      "cell_type": "code",
      "source": [
        "from typing import Tuple, List\n",
        "\n",
        "def linear_gradient(x: float, y: float, theta: Tuple[float, float]) -> List[float]:\n",
        "    slope, intercept = theta\n",
        "    predicted = slope * x + intercept  # The prediction of the model.\n",
        "    error = predicted - y  # error is (predicted - actual).\n",
        "    squared_error = error ** 2  # We'll minimize squared error\n",
        "    grad = [2 * error * x, 2 * error]  # using its gradient.\n",
        "    return grad\n"
      ],
      "metadata": {
        "id": "vcbra7VjAxbv"
      },
      "execution_count": 9,
      "outputs": []
    }
  ]
}