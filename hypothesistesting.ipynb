{
  "nbformat": 4,
  "nbformat_minor": 0,
  "metadata": {
    "colab": {
      "provenance": [],
      "authorship_tag": "ABX9TyNPx7EnmcqakfzXqRHgdf6X",
      "include_colab_link": true
    },
    "kernelspec": {
      "name": "python3",
      "display_name": "Python 3"
    },
    "language_info": {
      "name": "python"
    }
  },
  "cells": [
    {
      "cell_type": "markdown",
      "metadata": {
        "id": "view-in-github",
        "colab_type": "text"
      },
      "source": [
        "<a href=\"https://colab.research.google.com/github/Mutai-Gilbert/Finessing-Data-Science/blob/dev/hypothesistesting.ipynb\" target=\"_parent\"><img src=\"https://colab.research.google.com/assets/colab-badge.svg\" alt=\"Open In Colab\"/></a>"
      ]
    },
    {
      "cell_type": "code",
      "execution_count": 2,
      "metadata": {
        "id": "2L8HPg-zmfdW"
      },
      "outputs": [],
      "source": [
        "from typing import Tuple\n",
        "import math\n",
        "\n"
      ]
    },
    {
      "cell_type": "code",
      "source": [],
      "metadata": {
        "id": "BMGs75ZqtsvO"
      },
      "execution_count": null,
      "outputs": []
    },
    {
      "cell_type": "code",
      "source": [
        "def normal_approximation_to_binomial(n: int, p: float) -> Tuple[float, float]:\n",
        "    \"\"\"Returns mu and sigma corresponding to a Binomial(n, p)\"\"\"\n",
        "    mu = p * n\n",
        "    sigma = math.sqrt(p * (1 - p) * n)\n",
        "    return mu, sigma\n"
      ],
      "metadata": {
        "id": "PMAW6PbYtfDo"
      },
      "execution_count": 3,
      "outputs": []
    },
    {
      "cell_type": "code",
      "source": [],
      "metadata": {
        "id": "Lj8CJId6tdz5"
      },
      "execution_count": null,
      "outputs": []
    }
  ]
}