{
  "nbformat": 4,
  "nbformat_minor": 0,
  "metadata": {
    "colab": {
      "provenance": [],
      "authorship_tag": "ABX9TyO01TxnmLGd9RXnrPKAtnfq",
      "include_colab_link": true
    },
    "kernelspec": {
      "name": "python3",
      "display_name": "Python 3"
    },
    "language_info": {
      "name": "python"
    }
  },
  "cells": [
    {
      "cell_type": "markdown",
      "metadata": {
        "id": "view-in-github",
        "colab_type": "text"
      },
      "source": [
        "<a href=\"https://colab.research.google.com/github/Mutai-Gilbert/Finessing-Data-Science/blob/dev/hypothesistesting.ipynb\" target=\"_parent\"><img src=\"https://colab.research.google.com/assets/colab-badge.svg\" alt=\"Open In Colab\"/></a>"
      ]
    },
    {
      "cell_type": "code",
      "execution_count": null,
      "metadata": {
        "id": "2L8HPg-zmfdW"
      },
      "outputs": [],
      "source": [
        "from typing import Tuple\n",
        "import math\n"
      ]
    },
    {
      "cell_type": "code",
      "source": [],
      "metadata": {
        "id": "BMGs75ZqtsvO"
      },
      "execution_count": null,
      "outputs": []
    },
    {
      "cell_type": "code",
      "source": [
        "def normal_approximation_to_binomial(n: int, p: float) -> Tuple[float, float]:\n",
        "    \"\"\"Returns mu and sigma corresponding to a Binomial(n, p)\"\"\"\n",
        "    mu = p * n\n",
        "    sigma = math.sqrt(p * (1 - p) * n)\n",
        "    return mu, sigma\n"
      ],
      "metadata": {
        "id": "PMAW6PbYtfDo"
      },
      "execution_count": null,
      "outputs": []
    },
    {
      "cell_type": "code",
      "source": [
        "from typing import Callable\n",
        "\n",
        "def normal_cdf(x: float, mu: float = 0, sigma: float = 1) -> float:\n",
        "    # Cumulative distribution function for the standard normal distribution\n",
        "    return (1 + math.erf((x - mu) / math.sqrt(2) / sigma)) / 2\n",
        "\n",
        "normal_probability_below: Callable[[float, float, float], float] = normal_cdf\n",
        "\n",
        "def normal_probability_above(lo: float, mu: float = 0, sigma: float = 1) -> float:\n",
        "    \"\"\"The probability that an N(mu, sigma) is greater than lo.\"\"\"\n",
        "    return 1 - normal_cdf(lo, mu, sigma)\n",
        "\n",
        "def normal_probability_between(lo: float, hi: float, mu: float = 0, sigma: float = 1) -> float:\n",
        "    \"\"\"The probability that an N(mu, sigma) is between lo and hi.\"\"\"\n",
        "    return normal_cdf(hi, mu, sigma) - normal_cdf(lo, mu, sigma)\n",
        "\n",
        "def normal_probability_outside(lo: float, hi: float, mu: float = 0, sigma: float = 1) -> float:\n",
        "    \"\"\"The probability that an N(mu, sigma) is not between lo and hi.\"\"\"\n",
        "    return 1 - normal_probability_between(lo, hi, mu, sigma)\n"
      ],
      "metadata": {
        "id": "Lj8CJId6tdz5"
      },
      "execution_count": null,
      "outputs": []
    },
    {
      "cell_type": "code",
      "source": [
        "\n",
        "def normal_upper_bound(probability: float, mu: float = 0, sigma: float = 1) -> float:\n",
        "    \"\"\"Returns the z for which P(Z <= z) = probability\"\"\"\n",
        "    return inverse_normal_cdf(probability, mu, sigma)\n",
        "\n",
        "def normal_lower_bound(probability: float, mu: float = 0, sigma: float = 1) -> float:\n",
        "    \"\"\"Returns the z for which P(Z >= z) = probability\"\"\"\n",
        "    return inverse_normal_cdf(1 - probability, mu, sigma)\n",
        "\n",
        "def normal_two_sided_bounds(probability: float, mu: float = 0, sigma: float = 1) -> Tuple[float, float]:\n",
        "    \"\"\"Returns the symmetric (about the mean) bounds that contain the specified probability\"\"\"\n",
        "    tail_probability = (1 - probability) / 2\n",
        "    # Upper bound should have tail_probability above it\n",
        "    upper_bound = normal_lower_bound(tail_probability, mu, sigma)\n",
        "    # Lower bound should have tail_probability below it\n",
        "    lower_bound = normal_upper_bound(tail_probability, mu, sigma)\n",
        "    return lower_bound, upper_bound\n"
      ],
      "metadata": {
        "id": "MiIGA22tflpg"
      },
      "execution_count": null,
      "outputs": []
    },
    {
      "cell_type": "code",
      "source": [
        "def normal_upper_bound(probability: float, mu: float = 0, sigma: float = 1) -> float:\n",
        "    \"\"\"Returns the z for which P(Z <= z) = probability\"\"\"\n",
        "    return inverse_normal_cdf(probability, mu, sigma)\n",
        "\n",
        "def normal_lower_bound(probability: float, mu: float = 0, sigma: float = 1) -> float:\n",
        "    \"\"\"Returns the z for which P(Z >= z) = probability\"\"\"\n",
        "    return inverse_normal_cdf(1 - probability, mu, sigma)\n",
        "\n",
        "def normal_two_sided_bounds(probability: float, mu: float = 0, sigma: float = 1) -> Tuple[float, float]:\n",
        "    \"\"\" Returns the symmetric (about the mean) bounds that contain the specified probability \"\"\"\n",
        "    tail_probability = (1 - probability) / 2\n",
        "    # upper bound should have tail_probability above it\n",
        "    upper_bound = normal_lower_bound(tail_probability, mu, sigma)\n",
        "    # lower bound should have tail_probability below it\n",
        "    lower_bound = normal_upper_bound(tail_probability, mu, sigma)\n",
        "    return lower_bound, upper_bound\n"
      ],
      "metadata": {
        "id": "TxohAkUnqga-"
      },
      "execution_count": null,
      "outputs": []
    },
    {
      "cell_type": "code",
      "source": [
        "def two_sided_p_value(x: float, mu: float = 0, sigma: float = 1) -> float:\n",
        "    \"\"\"How likely are we to see a value at least as extreme as x (in either direction) if our values are from an N(mu, sigma)?\"\"\"\n",
        "    if x >= mu:\n",
        "        # x is greater than the mean, so the tail is everything greater than x\n",
        "        return 2 * normal_probability_above(x, mu, sigma)\n",
        "    else:\n",
        "        # x is less than the mean, so the tail is everything less than x\n",
        "        return 2 * normal_probability_below(x, mu, sigma)\n",
        "    two_sided_p_value(529.5, mu, sigma)\n",
        "    two_sided_p_value(531.5, mu_0, sigma_0)"
      ],
      "metadata": {
        "id": "btQRJQLEGlZa"
      },
      "execution_count": null,
      "outputs": []
    },
    {
      "cell_type": "code",
      "source": [
        "import random\n",
        "\n",
        "extreme_value_count = 0\n",
        "for _ in range(1000):\n",
        "    num_heads = sum(1 if random.random() < 0.5 else 0 for _ in range(1000))  # Count # of heads in 1000 flips\n",
        "    if num_heads >= 530 or num_heads <= 470:  # and count how often the # is 'extreme'\n",
        "        extreme_value_count += 1\n",
        "\n",
        "# p-value was 0.062 => ~62 extreme values out of 1000\n",
        "assert 59 <= extreme_value_count <= 65, f\"{extreme_value_count}\"\n"
      ],
      "metadata": {
        "id": "MUIKP4yIOtST"
      },
      "execution_count": null,
      "outputs": []
    },
    {
      "cell_type": "code",
      "source": [
        "from typing import List\n",
        "import random\n",
        "\n",
        "def run_experiment() -> List[bool]:\n",
        "    \"\"\"Flips a fair coin 1000 times, True = heads, False = tails\"\"\"\n",
        "    return [random.random() < 0.5 for _ in range(1000)]\n",
        "\n",
        "def reject_fairness(experiment: List[bool]) -> bool:\n",
        "    \"\"\"Using the 5% significance levels\"\"\"\n",
        "    num_heads = len([flip for flip in experiment if flip])\n",
        "    return num_heads < 469 or num_heads > 531\n",
        "\n",
        "random.seed(0)\n",
        "experiments = [run_experiment() for _ in range(1000)]\n",
        "num_rejections = len([experiment for experiment in experiments if reject_fairness(experiment)])\n",
        "assert num_rejections == 46\n"
      ],
      "metadata": {
        "id": "G_XeVrABY3_v"
      },
      "execution_count": null,
      "outputs": []
    },
    {
      "cell_type": "code",
      "source": [
        "\n",
        "\n",
        "def estimated_parameters(N: int, n: int) -> Tuple[float, float]:\n",
        "    p = n / N\n",
        "    sigma = math.sqrt(p * (1 - p) / N)\n",
        "    return p, sigma\n"
      ],
      "metadata": {
        "id": "EwAWYTtoitM4"
      },
      "execution_count": null,
      "outputs": []
    },
    {
      "cell_type": "code",
      "source": [
        "import math\n",
        "\n",
        "def a_b_test_statistic(N_A: int, n_A: int, N_B: int, n_B: int) -> float:\n",
        "    p_A, sigma_A = estimated_parameters(N_A, n_A)\n",
        "    p_B, sigma_B = estimated_parameters(N_B, n_B)\n",
        "    return (p_B - p_A) / math.sqrt(sigma_A ** 2 + sigma_B ** 2)\n"
      ],
      "metadata": {
        "id": "V445iP9WsTu5"
      },
      "execution_count": 4,
      "outputs": []
    },
    {
      "cell_type": "code",
      "source": [
        "z = a_b_test_statistic(1000, 200, 1000, 180)\n",
        "two_sided_p_value(z)\n"
      ],
      "metadata": {
        "colab": {
          "base_uri": "https://localhost:8080/",
          "height": 275
        },
        "id": "PlRgjtvw290W",
        "outputId": "1e187692-0657-429b-deb1-11013b13baa1"
      },
      "execution_count": 7,
      "outputs": [
        {
          "output_type": "error",
          "ename": "NameError",
          "evalue": "name 'estimated_parameters' is not defined",
          "traceback": [
            "\u001b[0;31m---------------------------------------------------------------------------\u001b[0m",
            "\u001b[0;31mNameError\u001b[0m                                 Traceback (most recent call last)",
            "\u001b[0;32m<ipython-input-7-718b44aac068>\u001b[0m in \u001b[0;36m<cell line: 1>\u001b[0;34m()\u001b[0m\n\u001b[0;32m----> 1\u001b[0;31m \u001b[0mz\u001b[0m \u001b[0;34m=\u001b[0m \u001b[0ma_b_test_statistic\u001b[0m\u001b[0;34m(\u001b[0m\u001b[0;36m1000\u001b[0m\u001b[0;34m,\u001b[0m \u001b[0;36m200\u001b[0m\u001b[0;34m,\u001b[0m \u001b[0;36m1000\u001b[0m\u001b[0;34m,\u001b[0m \u001b[0;36m180\u001b[0m\u001b[0;34m)\u001b[0m\u001b[0;34m\u001b[0m\u001b[0;34m\u001b[0m\u001b[0m\n\u001b[0m\u001b[1;32m      2\u001b[0m \u001b[0mtwo_sided_p_value\u001b[0m\u001b[0;34m(\u001b[0m\u001b[0mz\u001b[0m\u001b[0;34m)\u001b[0m\u001b[0;34m\u001b[0m\u001b[0;34m\u001b[0m\u001b[0m\n",
            "\u001b[0;32m<ipython-input-4-b07f12abc907>\u001b[0m in \u001b[0;36ma_b_test_statistic\u001b[0;34m(N_A, n_A, N_B, n_B)\u001b[0m\n\u001b[1;32m      2\u001b[0m \u001b[0;34m\u001b[0m\u001b[0m\n\u001b[1;32m      3\u001b[0m \u001b[0;32mdef\u001b[0m \u001b[0ma_b_test_statistic\u001b[0m\u001b[0;34m(\u001b[0m\u001b[0mN_A\u001b[0m\u001b[0;34m:\u001b[0m \u001b[0mint\u001b[0m\u001b[0;34m,\u001b[0m \u001b[0mn_A\u001b[0m\u001b[0;34m:\u001b[0m \u001b[0mint\u001b[0m\u001b[0;34m,\u001b[0m \u001b[0mN_B\u001b[0m\u001b[0;34m:\u001b[0m \u001b[0mint\u001b[0m\u001b[0;34m,\u001b[0m \u001b[0mn_B\u001b[0m\u001b[0;34m:\u001b[0m \u001b[0mint\u001b[0m\u001b[0;34m)\u001b[0m \u001b[0;34m->\u001b[0m \u001b[0mfloat\u001b[0m\u001b[0;34m:\u001b[0m\u001b[0;34m\u001b[0m\u001b[0;34m\u001b[0m\u001b[0m\n\u001b[0;32m----> 4\u001b[0;31m     \u001b[0mp_A\u001b[0m\u001b[0;34m,\u001b[0m \u001b[0msigma_A\u001b[0m \u001b[0;34m=\u001b[0m \u001b[0mestimated_parameters\u001b[0m\u001b[0;34m(\u001b[0m\u001b[0mN_A\u001b[0m\u001b[0;34m,\u001b[0m \u001b[0mn_A\u001b[0m\u001b[0;34m)\u001b[0m\u001b[0;34m\u001b[0m\u001b[0;34m\u001b[0m\u001b[0m\n\u001b[0m\u001b[1;32m      5\u001b[0m     \u001b[0mp_B\u001b[0m\u001b[0;34m,\u001b[0m \u001b[0msigma_B\u001b[0m \u001b[0;34m=\u001b[0m \u001b[0mestimated_parameters\u001b[0m\u001b[0;34m(\u001b[0m\u001b[0mN_B\u001b[0m\u001b[0;34m,\u001b[0m \u001b[0mn_B\u001b[0m\u001b[0;34m)\u001b[0m\u001b[0;34m\u001b[0m\u001b[0;34m\u001b[0m\u001b[0m\n\u001b[1;32m      6\u001b[0m     \u001b[0;32mreturn\u001b[0m \u001b[0;34m(\u001b[0m\u001b[0mp_B\u001b[0m \u001b[0;34m-\u001b[0m \u001b[0mp_A\u001b[0m\u001b[0;34m)\u001b[0m \u001b[0;34m/\u001b[0m \u001b[0mmath\u001b[0m\u001b[0;34m.\u001b[0m\u001b[0msqrt\u001b[0m\u001b[0;34m(\u001b[0m\u001b[0msigma_A\u001b[0m \u001b[0;34m**\u001b[0m \u001b[0;36m2\u001b[0m \u001b[0;34m+\u001b[0m \u001b[0msigma_B\u001b[0m \u001b[0;34m**\u001b[0m \u001b[0;36m2\u001b[0m\u001b[0;34m)\u001b[0m\u001b[0;34m\u001b[0m\u001b[0;34m\u001b[0m\u001b[0m\n",
            "\u001b[0;31mNameError\u001b[0m: name 'estimated_parameters' is not defined"
          ]
        }
      ]
    },
    {
      "cell_type": "code",
      "source": [
        "two_sided_p_value(z)"
      ],
      "metadata": {
        "colab": {
          "base_uri": "https://localhost:8080/",
          "height": 139
        },
        "id": "K-Zyq2xn2sqG",
        "outputId": "d228e03b-9870-4a28-84e4-605f6c68cf2f"
      },
      "execution_count": 6,
      "outputs": [
        {
          "output_type": "error",
          "ename": "NameError",
          "evalue": "name 'two_sided_p_value' is not defined",
          "traceback": [
            "\u001b[0;31m---------------------------------------------------------------------------\u001b[0m",
            "\u001b[0;31mNameError\u001b[0m                                 Traceback (most recent call last)",
            "\u001b[0;32m<ipython-input-6-ef811597d9ac>\u001b[0m in \u001b[0;36m<cell line: 1>\u001b[0;34m()\u001b[0m\n\u001b[0;32m----> 1\u001b[0;31m \u001b[0mtwo_sided_p_value\u001b[0m\u001b[0;34m(\u001b[0m\u001b[0mz\u001b[0m\u001b[0;34m)\u001b[0m\u001b[0;34m\u001b[0m\u001b[0;34m\u001b[0m\u001b[0m\n\u001b[0m",
            "\u001b[0;31mNameError\u001b[0m: name 'two_sided_p_value' is not defined"
          ]
        }
      ]
    }
  ]
}