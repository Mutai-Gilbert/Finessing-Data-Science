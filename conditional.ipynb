{
  "nbformat": 4,
  "nbformat_minor": 0,
  "metadata": {
    "colab": {
      "provenance": [],
      "authorship_tag": "ABX9TyOGHIsRoxlbrWHKEGPAUsKx",
      "include_colab_link": true
    },
    "kernelspec": {
      "name": "python3",
      "display_name": "Python 3"
    },
    "language_info": {
      "name": "python"
    }
  },
  "cells": [
    {
      "cell_type": "markdown",
      "metadata": {
        "id": "view-in-github",
        "colab_type": "text"
      },
      "source": [
        "<a href=\"https://colab.research.google.com/github/Mutai-Gilbert/Finessing-Data-Science/blob/dev/conditional.ipynb\" target=\"_parent\"><img src=\"https://colab.research.google.com/assets/colab-badge.svg\" alt=\"Open In Colab\"/></a>"
      ]
    },
    {
      "cell_type": "code",
      "execution_count": 1,
      "metadata": {
        "id": "dxuVVBCGMvcF"
      },
      "outputs": [],
      "source": [
        "import enum, random"
      ]
    },
    {
      "cell_type": "code",
      "source": [
        "class Kid(enum.Enum):\n",
        "  BOY = 0\n",
        "  GIRL = 1\n",
        "def random_kid() -> Kid:\n",
        "  return random.choice([Kid.BOY, Kid.GIRL])\n",
        "both_girls = 0\n",
        "older_girl = 0\n",
        "either_girl = 0\n",
        "\n",
        "random.seed(0)\n",
        "\n",
        "for _ in range(10000):\n",
        "  younger = random_kid()\n",
        "  older = random_kid()\n",
        "  if older == Kid.GIRL:\n",
        "    older_girl += 1\n",
        "  if older == Kid.GIRL and younger == Kid.GIRL:\n",
        "    both_girls += 1\n",
        "  if older == Kid.GIRL or younger == Kid.GIRL:\n",
        "    either_girl += 1\n",
        "\n",
        "print(\"P(both | older):\", both_girls/older_girl)\n",
        "print(\"P(both | either):\", both_girls/either_girl)"
      ],
      "metadata": {
        "colab": {
          "base_uri": "https://localhost:8080/"
        },
        "id": "-86PQtWdM8oS",
        "outputId": "3e746b39-d312-4f54-b47b-910cc8d5c7d8"
      },
      "execution_count": 4,
      "outputs": [
        {
          "output_type": "stream",
          "name": "stdout",
          "text": [
            "P(both | older): 0.5007089325501317\n",
            "P(both | either): 0.3311897106109325\n"
          ]
        }
      ]
    }
  ]
}