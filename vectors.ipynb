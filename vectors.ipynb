{
  "nbformat": 4,
  "nbformat_minor": 0,
  "metadata": {
    "colab": {
      "provenance": [],
      "authorship_tag": "ABX9TyPVfOoxkhwrDNoMEzZWyBpY",
      "include_colab_link": true
    },
    "kernelspec": {
      "name": "python3",
      "display_name": "Python 3"
    },
    "language_info": {
      "name": "python"
    }
  },
  "cells": [
    {
      "cell_type": "markdown",
      "metadata": {
        "id": "view-in-github",
        "colab_type": "text"
      },
      "source": [
        "<a href=\"https://colab.research.google.com/github/Mutai-Gilbert/Finessing-Data-Science/blob/dev/vectors.ipynb\" target=\"_parent\"><img src=\"https://colab.research.google.com/assets/colab-badge.svg\" alt=\"Open In Colab\"/></a>"
      ]
    },
    {
      "cell_type": "code",
      "execution_count": 8,
      "metadata": {
        "id": "ksKridp_i3Qc"
      },
      "outputs": [],
      "source": [
        "from typing import List\n",
        "\n",
        "Vector = List[float]\n",
        "\n",
        "def add(v: Vector, w: Vector) -> Vector:\n",
        "  assert len(v) == len(w)\n",
        "  return [v_i + w_i for v_i, w_i in zip(v,w)]\n",
        "assert add([1, 2, 3], [4,5,6]) == [5,7,9]"
      ]
    },
    {
      "cell_type": "code",
      "source": [
        "def dot(v: Vector, w: Vector) -> float:\n",
        "  assert len(v) == len(w)\n",
        "  return sum(v_i * w_i for v_i, w_i in zip(v,w))\n",
        "assert dot([1,2,3], [4,5,6]) == 32"
      ],
      "metadata": {
        "id": "XmjkKrLNqGJB"
      },
      "execution_count": 12,
      "outputs": []
    },
    {
      "cell_type": "code",
      "source": [
        "def sum_of_squares(v: Vector) -> float:\n",
        "  return dot(v, v)\n",
        "assert sum_of_squares([1, 2, 3]) == 14"
      ],
      "metadata": {
        "id": "jWT5s4qmkK7d"
      },
      "execution_count": 14,
      "outputs": []
    },
    {
      "cell_type": "code",
      "source": [
        "import math\n",
        "\n",
        "def magnitude(v: Vector) -> float:\n",
        "  return math.sqrt(sum_of_squares(v))\n",
        "assert magnitude([3,4]) == 5"
      ],
      "metadata": {
        "id": "87FZxxBHquW1"
      },
      "execution_count": 16,
      "outputs": []
    },
    {
      "cell_type": "code",
      "source": [
        "def distance(v: Vector, w: Vector) -> float:\n",
        "  return maginitude(subtract(v,w))"
      ],
      "metadata": {
        "id": "I7N2JUZXrAhQ"
      },
      "execution_count": 17,
      "outputs": []
    }
  ]
}